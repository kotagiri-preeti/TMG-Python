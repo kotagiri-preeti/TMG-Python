{
 "cells": [
  {
   "cell_type": "markdown",
   "metadata": {},
   "source": [
    "Document link : [click here](https://docs.google.com/document/d/1iYTumieUcy_cxvRfACZw2V9F_y3MxT8dkYvvZiREgHQ/edit?usp=sharing)"
   ]
  },
  {
   "cell_type": "markdown",
   "metadata": {},
   "source": [
    "### Exception handling:"
   ]
  },
  {
   "cell_type": "code",
   "execution_count": 24,
   "metadata": {},
   "outputs": [
    {
     "name": "stdout",
     "output_type": "stream",
     "text": [
      "10\n",
      "0\n",
      "20\n",
      "You cannot divide any number by Zero\n",
      "Finally block\n"
     ]
    }
   ],
   "source": [
    "x = int(input())\n",
    "y = int(input())\n",
    "z = int(input())\n",
    "d = {\"name\":\"preeti\"}\n",
    "try: #holds the code which is throwing an error\n",
    "    print(x / y)\n",
    "    print(z)\n",
    "    print(d[\"name\"])\n",
    "    print(\"Try block\")\n",
    "except ZeroDivisionError:#except with Error name\n",
    "    print(\"You cannot divide any number by Zero\")\n",
    "except NameError as e:#except with error name and error description\n",
    "    print(\"Except block for NameError:\",e)\n",
    "except(KeyError,ModuleNotFoundError):#except with multiple exceptions\n",
    "    print(\"key and ModuleNotFoundError exception block\") \n",
    "except:#Generic way (For all the exceptions)\n",
    "    print(\"Except block for all the exceptions\")\n",
    "else:#try block is not giving any error\n",
    "    print(\"Else block\")\n",
    "finally:#Regardless of exception raised or not finally block will execute\n",
    "    print(\"Finally block\")"
   ]
  },
  {
   "cell_type": "code",
   "execution_count": null,
   "metadata": {},
   "outputs": [],
   "source": []
  }
 ],
 "metadata": {
  "kernelspec": {
   "display_name": "Python 3",
   "language": "python",
   "name": "python3"
  },
  "language_info": {
   "codemirror_mode": {
    "name": "ipython",
    "version": 3
   },
   "file_extension": ".py",
   "mimetype": "text/x-python",
   "name": "python",
   "nbconvert_exporter": "python",
   "pygments_lexer": "ipython3",
   "version": "3.7.3"
  }
 },
 "nbformat": 4,
 "nbformat_minor": 2
}
