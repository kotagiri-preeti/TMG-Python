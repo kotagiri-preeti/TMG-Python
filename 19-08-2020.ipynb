{
 "cells": [
  {
   "cell_type": "markdown",
   "metadata": {},
   "source": [
    "Document link : [click here](https://docs.google.com/document/d/1FBRzgXOG7Cqk0W1hkg4UZRokQ5x74Py38UB0yMZFWSU/edit?usp=sharing)"
   ]
  },
  {
   "cell_type": "markdown",
   "metadata": {},
   "source": [
    "### Question:\n",
    "```\n",
    "Accept a number from the user and check whether the number is Perfect or not?\n",
    "Example : 6 → 1,2,3 → 1+2+3 = 6 → perfect number\n",
    "     8 → 1,2,4 → 1+2+4 =7 → not a perfect number\n",
    "```"
   ]
  },
  {
   "cell_type": "code",
   "execution_count": 3,
   "metadata": {},
   "outputs": [
    {
     "name": "stdout",
     "output_type": "stream",
     "text": [
      "Enter n value: 6\n",
      "perfect number\n"
     ]
    }
   ],
   "source": [
    "n = int(input(\"Enter n value: \"))\n",
    "s = 0\n",
    "for i in range(1,n):\n",
    "    if n%i == 0:\n",
    "        s += i\n",
    "if s==n:\n",
    "    print(\"perfect number\")\n",
    "else:\n",
    "    print(\"not a perfect number\")"
   ]
  },
  {
   "cell_type": "markdown",
   "metadata": {},
   "source": [
    "### Built-in methods:\n",
    "#### Adding elements\n",
    "1. append()\n",
    "2. insert()\n",
    "3. extend()\n",
    "\n",
    "#### Removing elements:\n",
    "4. pop()\n",
    "5. remove()\n",
    "6. clear()\n",
    "\n",
    "#### sorting and reversing:\n",
    "7. sort()\n",
    "8. reverse()\n",
    "9. index()\n",
    "10. count()\n",
    "11. copy()"
   ]
  },
  {
   "cell_type": "code",
   "execution_count": 4,
   "metadata": {},
   "outputs": [],
   "source": [
    "list1 = [12,23,4,5,45]"
   ]
  },
  {
   "cell_type": "code",
   "execution_count": 6,
   "metadata": {},
   "outputs": [
    {
     "name": "stdout",
     "output_type": "stream",
     "text": [
      "Before adding an element: [12, 23, 4, 5, 45]\n",
      "After adding an element: [12, 23, 4, 5, 45, 100]\n"
     ]
    }
   ],
   "source": [
    "#Adds an element at the end of the list\n",
    "print(\"Before adding an element:\",list1)\n",
    "list1.append(100)\n",
    "print(\"After adding an element:\",list1)"
   ]
  },
  {
   "cell_type": "code",
   "execution_count": 7,
   "metadata": {},
   "outputs": [
    {
     "name": "stdout",
     "output_type": "stream",
     "text": [
      "[12, 23, 4, 5, 45, 100, 200]\n"
     ]
    }
   ],
   "source": [
    "list1.append(200)\n",
    "print(list1)"
   ]
  },
  {
   "cell_type": "code",
   "execution_count": 8,
   "metadata": {},
   "outputs": [
    {
     "name": "stdout",
     "output_type": "stream",
     "text": [
      "[12, 23, 300, 4, 5, 45, 100, 200]\n"
     ]
    }
   ],
   "source": [
    "#insert() --> Adds an element at the given position\n",
    "list1.insert(2,300)\n",
    "print(list1)"
   ]
  },
  {
   "cell_type": "code",
   "execution_count": 11,
   "metadata": {},
   "outputs": [
    {
     "data": {
      "text/plain": [
       "[12, 23, 300, 4, 5, 45, 100, 200, 10, 20, 30]"
      ]
     },
     "execution_count": 11,
     "metadata": {},
     "output_type": "execute_result"
    }
   ],
   "source": [
    "#extend() --> Adding Multiple elements into the list\n",
    "list1.extend([10,20,30])\n",
    "list1"
   ]
  },
  {
   "cell_type": "code",
   "execution_count": 12,
   "metadata": {},
   "outputs": [
    {
     "data": {
      "text/plain": [
       "[12, 23, 300, 4, 5, 45, 100, 200, 10, 20, 30, [10, 20, 30]]"
      ]
     },
     "execution_count": 12,
     "metadata": {},
     "output_type": "execute_result"
    }
   ],
   "source": [
    "list1.append([10,20,30])\n",
    "list1"
   ]
  },
  {
   "cell_type": "code",
   "execution_count": 13,
   "metadata": {},
   "outputs": [
    {
     "name": "stdout",
     "output_type": "stream",
     "text": [
      "[12, 23, 300, 4, 5, 45, 100, 200, 10, 20, 30]\n"
     ]
    }
   ],
   "source": [
    "#pop() --> default index = -1 and removes last element from the list\n",
    "list1.pop()\n",
    "print(list1)"
   ]
  },
  {
   "cell_type": "code",
   "execution_count": 14,
   "metadata": {},
   "outputs": [
    {
     "name": "stdout",
     "output_type": "stream",
     "text": [
      "[12, 23, 4, 5, 45, 100, 200, 10, 20, 30]\n"
     ]
    }
   ],
   "source": [
    "#If we give an index that corresponding element will be removed\n",
    "list1.pop(2)\n",
    "print(list1)"
   ]
  },
  {
   "cell_type": "code",
   "execution_count": 15,
   "metadata": {},
   "outputs": [
    {
     "data": {
      "text/plain": [
       "[4, 5, 45, 100, 200, 10, 20, 30]"
      ]
     },
     "execution_count": 15,
     "metadata": {},
     "output_type": "execute_result"
    }
   ],
   "source": [
    "#Destructor\n",
    "del list1[0:2]\n",
    "list1"
   ]
  },
  {
   "cell_type": "code",
   "execution_count": 16,
   "metadata": {},
   "outputs": [
    {
     "data": {
      "text/plain": [
       "[4, 5, 45, 200, 10, 20, 30]"
      ]
     },
     "execution_count": 16,
     "metadata": {},
     "output_type": "execute_result"
    }
   ],
   "source": [
    "#remove() --> Remove an element without using index\n",
    "list1.remove(100)\n",
    "list1"
   ]
  },
  {
   "cell_type": "code",
   "execution_count": 17,
   "metadata": {},
   "outputs": [
    {
     "data": {
      "text/plain": [
       "[]"
      ]
     },
     "execution_count": 17,
     "metadata": {},
     "output_type": "execute_result"
    }
   ],
   "source": [
    "#clear() --> Removes all the elements form the list\n",
    "list1.clear()\n",
    "list1"
   ]
  },
  {
   "cell_type": "code",
   "execution_count": 18,
   "metadata": {},
   "outputs": [],
   "source": [
    "#Deletes list from the memory permanently\n",
    "del list1"
   ]
  },
  {
   "cell_type": "code",
   "execution_count": 19,
   "metadata": {},
   "outputs": [
    {
     "ename": "NameError",
     "evalue": "name 'list1' is not defined",
     "output_type": "error",
     "traceback": [
      "\u001b[1;31m---------------------------------------------------------------------------\u001b[0m",
      "\u001b[1;31mNameError\u001b[0m                                 Traceback (most recent call last)",
      "\u001b[1;32m<ipython-input-19-32e3a55f6bef>\u001b[0m in \u001b[0;36m<module>\u001b[1;34m\u001b[0m\n\u001b[1;32m----> 1\u001b[1;33m \u001b[0mlist1\u001b[0m\u001b[1;33m\u001b[0m\u001b[1;33m\u001b[0m\u001b[0m\n\u001b[0m",
      "\u001b[1;31mNameError\u001b[0m: name 'list1' is not defined"
     ]
    }
   ],
   "source": [
    "list1"
   ]
  },
  {
   "cell_type": "code",
   "execution_count": 21,
   "metadata": {},
   "outputs": [
    {
     "name": "stdout",
     "output_type": "stream",
     "text": [
      "[7, 8, 45, 65, 97, 445, 678, 1232, 8656]\n"
     ]
    }
   ],
   "source": [
    "#sort() --> By default sorts in ascending\n",
    "list1 = [1232,445,45,65,7,8,97,8656,678]\n",
    "list1.sort()\n",
    "print(list1)"
   ]
  },
  {
   "cell_type": "code",
   "execution_count": 22,
   "metadata": {},
   "outputs": [
    {
     "name": "stdout",
     "output_type": "stream",
     "text": [
      "[8656, 1232, 678, 445, 97, 65, 45, 8, 7]\n"
     ]
    }
   ],
   "source": [
    "#sort elements descending order\n",
    "list1.sort(reverse=True)\n",
    "print(list1)"
   ]
  },
  {
   "cell_type": "code",
   "execution_count": 23,
   "metadata": {},
   "outputs": [],
   "source": [
    "#reverses all the elements of the list\n",
    "list1.reverse()"
   ]
  },
  {
   "cell_type": "code",
   "execution_count": 25,
   "metadata": {},
   "outputs": [
    {
     "data": {
      "text/plain": [
       "4"
      ]
     },
     "execution_count": 25,
     "metadata": {},
     "output_type": "execute_result"
    }
   ],
   "source": [
    "#index() --> returns index of the given element\n",
    "list1.index(97)"
   ]
  },
  {
   "cell_type": "code",
   "execution_count": 24,
   "metadata": {},
   "outputs": [
    {
     "data": {
      "text/plain": [
       "[7, 8, 45, 65, 97, 445, 678, 1232, 8656]"
      ]
     },
     "execution_count": 24,
     "metadata": {},
     "output_type": "execute_result"
    }
   ],
   "source": [
    "list1"
   ]
  },
  {
   "cell_type": "code",
   "execution_count": 26,
   "metadata": {},
   "outputs": [
    {
     "data": {
      "text/plain": [
       "1"
      ]
     },
     "execution_count": 26,
     "metadata": {},
     "output_type": "execute_result"
    }
   ],
   "source": [
    "#count() --> returns count/frequency of given element in the list\n",
    "list1.count(445)"
   ]
  },
  {
   "cell_type": "code",
   "execution_count": 28,
   "metadata": {},
   "outputs": [
    {
     "name": "stdout",
     "output_type": "stream",
     "text": [
      "list1: [7, 8, 45, 65, 97, 445, 678, 1232, 8656]\n",
      "list2: [7, 8, 45, 65, 97, 445, 678, 1232, 8656]\n"
     ]
    }
   ],
   "source": [
    "#copy() --> copies all the elements into another list\n",
    "list2 = list1.copy()\n",
    "print(\"list1:\",list1)\n",
    "print(\"list2:\",list2)"
   ]
  },
  {
   "cell_type": "code",
   "execution_count": 29,
   "metadata": {},
   "outputs": [
    {
     "name": "stdout",
     "output_type": "stream",
     "text": [
      "list1: [7, 8, 45, 65, 97, 445, 678, 1232, 8656]\n",
      "list3: [7, 8, 45, 65, 97, 445, 678, 1232, 8656]\n"
     ]
    }
   ],
   "source": [
    "list3 = list1\n",
    "print(\"list1:\",list1)\n",
    "print(\"list3:\",list3)"
   ]
  },
  {
   "cell_type": "code",
   "execution_count": 30,
   "metadata": {},
   "outputs": [],
   "source": [
    "list1.append(1000)"
   ]
  },
  {
   "cell_type": "code",
   "execution_count": 31,
   "metadata": {},
   "outputs": [
    {
     "name": "stdout",
     "output_type": "stream",
     "text": [
      "list1: [7, 8, 45, 65, 97, 445, 678, 1232, 8656, 1000]\n",
      "list2: [7, 8, 45, 65, 97, 445, 678, 1232, 8656]\n",
      "list3: [7, 8, 45, 65, 97, 445, 678, 1232, 8656, 1000]\n"
     ]
    }
   ],
   "source": [
    "print(\"list1:\",list1)#original list\n",
    "print(\"list2:\",list2)#copied using copy()\n",
    "print(\"list3:\",list3)#copied using ="
   ]
  },
  {
   "cell_type": "code",
   "execution_count": null,
   "metadata": {},
   "outputs": [],
   "source": []
  }
 ],
 "metadata": {
  "kernelspec": {
   "display_name": "Python 3",
   "language": "python",
   "name": "python3"
  },
  "language_info": {
   "codemirror_mode": {
    "name": "ipython",
    "version": 3
   },
   "file_extension": ".py",
   "mimetype": "text/x-python",
   "name": "python",
   "nbconvert_exporter": "python",
   "pygments_lexer": "ipython3",
   "version": "3.7.3"
  }
 },
 "nbformat": 4,
 "nbformat_minor": 2
}
