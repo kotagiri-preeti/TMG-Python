{
 "cells": [
  {
   "cell_type": "markdown",
   "metadata": {},
   "source": [
    "Document link : [click here](https://docs.google.com/document/d/1kiYsHvdQA5Ktny2EObgrod6rVPK3NQru-Fm1MgZlWjA/edit?usp=sharing)"
   ]
  },
  {
   "cell_type": "code",
   "execution_count": 4,
   "metadata": {},
   "outputs": [],
   "source": [
    "x = 10\n",
    "y = 20"
   ]
  },
  {
   "cell_type": "code",
   "execution_count": 5,
   "metadata": {},
   "outputs": [],
   "source": [
    "def add(x,y):\n",
    "    return x+y"
   ]
  },
  {
   "cell_type": "code",
   "execution_count": 7,
   "metadata": {},
   "outputs": [],
   "source": [
    "def sub(x,y):\n",
    "    return x-y"
   ]
  },
  {
   "cell_type": "code",
   "execution_count": 8,
   "metadata": {},
   "outputs": [
    {
     "data": {
      "text/plain": [
       "30"
      ]
     },
     "execution_count": 8,
     "metadata": {},
     "output_type": "execute_result"
    }
   ],
   "source": [
    "add(x,y)"
   ]
  },
  {
   "cell_type": "markdown",
   "metadata": {},
   "source": [
    "### class and object creation:"
   ]
  },
  {
   "cell_type": "code",
   "execution_count": 12,
   "metadata": {},
   "outputs": [],
   "source": [
    "#class creation\n",
    "class ArithmeticOperations:\n",
    "    def display(self):\n",
    "        print(\"This is display method of ArithmeticOperations class\")"
   ]
  },
  {
   "cell_type": "code",
   "execution_count": 13,
   "metadata": {},
   "outputs": [],
   "source": [
    "#Object creation\n",
    "obj1 = ArithmeticOperations()"
   ]
  },
  {
   "cell_type": "code",
   "execution_count": 14,
   "metadata": {},
   "outputs": [
    {
     "name": "stdout",
     "output_type": "stream",
     "text": [
      "This is display method of ArithmeticOperations class\n"
     ]
    }
   ],
   "source": [
    "#calling a method using ob333333ject name\n",
    "obj1.display()"
   ]
  },
  {
   "cell_type": "markdown",
   "metadata": {},
   "source": [
    "### Attributes:\n",
    "1. class attribute\n",
    "2. Instance attribute"
   ]
  },
  {
   "cell_type": "code",
   "execution_count": 24,
   "metadata": {},
   "outputs": [],
   "source": [
    "class Trainer:\n",
    "    name = \"preeti\"#class attribute\n",
    "    def display(self):\n",
    "        address = \"HYD\"#Instance attribute\n",
    "        print(\"Good afternoon\",self.name,\"Are you are from\",address)"
   ]
  },
  {
   "cell_type": "code",
   "execution_count": 25,
   "metadata": {},
   "outputs": [],
   "source": [
    "trainer1 = Trainer()"
   ]
  },
  {
   "cell_type": "code",
   "execution_count": 26,
   "metadata": {},
   "outputs": [
    {
     "name": "stdout",
     "output_type": "stream",
     "text": [
      "Good afternoon preeti Are you are from HYD\n"
     ]
    }
   ],
   "source": [
    "trainer1.display()"
   ]
  },
  {
   "cell_type": "markdown",
   "metadata": {},
   "source": [
    "### constructor\n",
    "1. Default constructor\n",
    "2. Parameterized constructor\n"
   ]
  },
  {
   "cell_type": "code",
   "execution_count": 27,
   "metadata": {},
   "outputs": [],
   "source": [
    "class Trainer:\n",
    "    #parameterized constructor creation\n",
    "    def __init__(self,name,address):#Initialization --> Constructor\n",
    "        self.name = name\n",
    "        self.address = address \n",
    "        \n",
    "    def display(self):\n",
    "        print(\"Good afternoon\",self.name,\"Are you are from\",self.address)"
   ]
  },
  {
   "cell_type": "code",
   "execution_count": 28,
   "metadata": {},
   "outputs": [],
   "source": [
    "#creating objects\n",
    "trainer1 = Trainer(\"preeti\",\"Hyd\")\n",
    "trainer2 = Trainer(\"Sai\",\"Odissa\")\n",
    "trainer3 = Trainer(\"Arun\",\"Blr\")"
   ]
  },
  {
   "cell_type": "code",
   "execution_count": 29,
   "metadata": {},
   "outputs": [
    {
     "name": "stdout",
     "output_type": "stream",
     "text": [
      "Good afternoon preeti Are you are from Hyd\n"
     ]
    }
   ],
   "source": [
    "#calling display() with object1 i.e.,trainer1\n",
    "trainer1.display()"
   ]
  },
  {
   "cell_type": "code",
   "execution_count": 30,
   "metadata": {},
   "outputs": [
    {
     "name": "stdout",
     "output_type": "stream",
     "text": [
      "Good afternoon Sai Are you are from Odissa\n"
     ]
    }
   ],
   "source": [
    "#calling display() with object2 i.e.,trainer2\n",
    "trainer2.display()"
   ]
  },
  {
   "cell_type": "code",
   "execution_count": 31,
   "metadata": {},
   "outputs": [
    {
     "name": "stdout",
     "output_type": "stream",
     "text": [
      "Good afternoon Arun Are you are from Blr\n"
     ]
    }
   ],
   "source": [
    "#calling display() with object3 i.e.,trainer3\n",
    "trainer3.display()"
   ]
  },
  {
   "cell_type": "markdown",
   "metadata": {},
   "source": [
    "### When an object Instantiated constructor gets called"
   ]
  },
  {
   "cell_type": "code",
   "execution_count": 32,
   "metadata": {},
   "outputs": [],
   "source": [
    "class Trainer:\n",
    "    def __init__(self,name,address):#Initialization --> Constructor\n",
    "        self.name = name\n",
    "        self.address = address \n",
    "        print(\"Constructor is called\")\n",
    "    def display(self):\n",
    "        print(\"Good afternoon\",self.name,\"Are you are from\",self.address)"
   ]
  },
  {
   "cell_type": "code",
   "execution_count": 33,
   "metadata": {},
   "outputs": [
    {
     "name": "stdout",
     "output_type": "stream",
     "text": [
      "Constructor is called\n",
      "Constructor is called\n"
     ]
    }
   ],
   "source": [
    "t1 = Trainer(\"preeti\",\"hyd\")\n",
    "t2 = Trainer(\"sana\",\"hyd\")"
   ]
  },
  {
   "cell_type": "code",
   "execution_count": null,
   "metadata": {},
   "outputs": [],
   "source": []
  }
 ],
 "metadata": {
  "kernelspec": {
   "display_name": "Python 3",
   "language": "python",
   "name": "python3"
  },
  "language_info": {
   "codemirror_mode": {
    "name": "ipython",
    "version": 3
   },
   "file_extension": ".py",
   "mimetype": "text/x-python",
   "name": "python",
   "nbconvert_exporter": "python",
   "pygments_lexer": "ipython3",
   "version": "3.7.3"
  }
 },
 "nbformat": 4,
 "nbformat_minor": 2
}
