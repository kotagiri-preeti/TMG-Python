{
 "cells": [
  {
   "cell_type": "markdown",
   "metadata": {},
   "source": [
    "Document link : [click here](https://docs.google.com/document/d/13egMRPb2fZdvpITzLNwiDPAKjSlxJ5r6FMgo9e7jg5Q/edit?usp=sharing)"
   ]
  },
  {
   "cell_type": "markdown",
   "metadata": {},
   "source": [
    "### print() function:"
   ]
  },
  {
   "cell_type": "code",
   "execution_count": 4,
   "metadata": {},
   "outputs": [
    {
     "name": "stdout",
     "output_type": "stream",
     "text": [
      "30 @ 200\n"
     ]
    }
   ],
   "source": [
    "print(10+20,10*20,sep=\" @ \")"
   ]
  },
  {
   "cell_type": "code",
   "execution_count": 3,
   "metadata": {},
   "outputs": [
    {
     "name": "stdout",
     "output_type": "stream",
     "text": [
      "200 2000\n"
     ]
    }
   ],
   "source": [
    "print(10*20,end=\" \")\n",
    "print(10*200)"
   ]
  },
  {
   "cell_type": "markdown",
   "metadata": {},
   "source": [
    "### input() function:\n",
    "```\n",
    "int a,b;\n",
    "printf(\"Enter a and b values\");\n",
    "scanf(\"%d%d\",&a,&b);\n",
    "\n",
    "10 20\n",
    "a  b\n",
    "\n",
    "variable name = input(\"Enter a value\")\n",
    "a = input(\"Enter a value\")\n",
    "b = input(\"Enter b value\")\n",
    "```"
   ]
  },
  {
   "cell_type": "code",
   "execution_count": 7,
   "metadata": {},
   "outputs": [
    {
     "name": "stdout",
     "output_type": "stream",
     "text": [
      "Enter a value10\n",
      "Enter b value20\n",
      "30\n",
      "<class 'int'>\n"
     ]
    }
   ],
   "source": [
    "a = int(input(\"Enter a value\"))\n",
    "b = int(input(\"Enter b value\"))\n",
    "print(a+b)\n",
    "print(type(a))\n",
    "print(type(b))"
   ]
  },
  {
   "cell_type": "markdown",
   "metadata": {},
   "source": [
    "### Accept name and age of a person and disply output in the given format\n",
    "#### My name is ------- and age is -----"
   ]
  },
  {
   "cell_type": "code",
   "execution_count": 8,
   "metadata": {},
   "outputs": [
    {
     "name": "stdout",
     "output_type": "stream",
     "text": [
      "Enter your nameabc\n",
      "Enter your age12\n",
      "My name is abc and age is 12\n"
     ]
    }
   ],
   "source": [
    "name = input(\"Enter your name\")\n",
    "age = int(input(\"Enter your age\"))\n",
    "print(\"My name is\",name,\"and age is\",age)"
   ]
  }
 ],
 "metadata": {
  "kernelspec": {
   "display_name": "Python 3",
   "language": "python",
   "name": "python3"
  },
  "language_info": {
   "codemirror_mode": {
    "name": "ipython",
    "version": 3
   },
   "file_extension": ".py",
   "mimetype": "text/x-python",
   "name": "python",
   "nbconvert_exporter": "python",
   "pygments_lexer": "ipython3",
   "version": "3.7.3"
  }
 },
 "nbformat": 4,
 "nbformat_minor": 2
}
