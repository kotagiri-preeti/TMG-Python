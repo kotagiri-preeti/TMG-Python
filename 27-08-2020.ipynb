{
 "cells": [
  {
   "cell_type": "markdown",
   "metadata": {},
   "source": [
    "Document link : [click here](https://docs.google.com/document/d/1R2f-y_8Xu8fh2IjuZPmQHAno19WU_pP-2u9NEKCM1VI/edit?usp=sharing)"
   ]
  },
  {
   "cell_type": "code",
   "execution_count": null,
   "metadata": {},
   "outputs": [],
   "source": [
    "#Function definition\n",
    "def Addition(x,y):\n",
    "    print(x + y)"
   ]
  },
  {
   "cell_type": "code",
   "execution_count": 9,
   "metadata": {},
   "outputs": [
    {
     "name": "stdout",
     "output_type": "stream",
     "text": [
      "30\n"
     ]
    }
   ],
   "source": [
    "#Function calling\n",
    "Addition(10,20)"
   ]
  },
  {
   "cell_type": "code",
   "execution_count": 13,
   "metadata": {},
   "outputs": [
    {
     "name": "stdout",
     "output_type": "stream",
     "text": [
      "30\n",
      "None\n"
     ]
    }
   ],
   "source": [
    "#Function without return statement\n",
    "def Addition(x,y):\n",
    "    print(x + y)\n",
    "print(Addition(10,20))"
   ]
  },
  {
   "cell_type": "code",
   "execution_count": 14,
   "metadata": {},
   "outputs": [
    {
     "name": "stdout",
     "output_type": "stream",
     "text": [
      "30\n"
     ]
    }
   ],
   "source": [
    "#Function with return statement\n",
    "def Addition(x,y):\n",
    "    return x + y\n",
    "print(Addition(10,20))"
   ]
  },
  {
   "cell_type": "code",
   "execution_count": 15,
   "metadata": {},
   "outputs": [
    {
     "name": "stdout",
     "output_type": "stream",
     "text": [
      "130\n"
     ]
    }
   ],
   "source": [
    "#Formal and Actual arguments\n",
    "def Addition(x,y):#x,y formal arguments \n",
    "    return x + y\n",
    "s = Addition(10,20)#10,20 actual arguments\n",
    "print(s+100)"
   ]
  },
  {
   "cell_type": "code",
   "execution_count": 26,
   "metadata": {},
   "outputs": [
    {
     "name": "stdout",
     "output_type": "stream",
     "text": [
      "Enter a number12\n",
      "Number is Adam\n"
     ]
    }
   ],
   "source": [
    "#Adam number --> using Reverse function\n",
    "def reverse(n):\n",
    "    rev = 0\n",
    "    while n > 0:\n",
    "        rev = rev*10 + n%10\n",
    "        n //= 10   \n",
    "    return rev\n",
    "n = int(input(\"Enter a number\"))\n",
    "if reverse(n**2) == reverse(n)**2 :\n",
    "    print(\"Number is Adam\")\n",
    "else:\n",
    "    print(\"Number is not Adam\")"
   ]
  },
  {
   "cell_type": "code",
   "execution_count": 27,
   "metadata": {},
   "outputs": [
    {
     "name": "stdout",
     "output_type": "stream",
     "text": [
      "Enter a number121\n",
      "palindrome\n"
     ]
    }
   ],
   "source": [
    "#checking whether number is palidrome or not using reverse() function\n",
    "n = int(input(\"Enter a number\"))\n",
    "if n == reverse(n) :\n",
    "    print(\"palindrome\")\n",
    "else:\n",
    "    print(\"not a palindrome\")"
   ]
  },
  {
   "cell_type": "markdown",
   "metadata": {},
   "source": [
    "### Question:\n",
    "Accept a number from the user and check whether the number is Strong or not?<br>\n",
    "Example :  145 → 1! + 4! + 5! → 1+24+120 = 145"
   ]
  },
  {
   "cell_type": "code",
   "execution_count": 34,
   "metadata": {},
   "outputs": [
    {
     "name": "stdout",
     "output_type": "stream",
     "text": [
      "145\n"
     ]
    }
   ],
   "source": [
    "def factorial(x):\n",
    "    factorial = 1\n",
    "    if x < 0:\n",
    "        print(\"Factorial does not exists\")\n",
    "    elif x == 0:\n",
    "        pass\n",
    "    else:\n",
    "        for i in range (1,x+1):\n",
    "            factorial= factorial*i\n",
    "    return factorial\n",
    "s = 0\n",
    "s += factorial(5)#120\n",
    "s += factorial(4)#24\n",
    "s += factorial(1)#1\n",
    "print(s)"
   ]
  },
  {
   "cell_type": "code",
   "execution_count": null,
   "metadata": {},
   "outputs": [],
   "source": []
  }
 ],
 "metadata": {
  "kernelspec": {
   "display_name": "Python 3",
   "language": "python",
   "name": "python3"
  },
  "language_info": {
   "codemirror_mode": {
    "name": "ipython",
    "version": 3
   },
   "file_extension": ".py",
   "mimetype": "text/x-python",
   "name": "python",
   "nbconvert_exporter": "python",
   "pygments_lexer": "ipython3",
   "version": "3.7.3"
  }
 },
 "nbformat": 4,
 "nbformat_minor": 2
}
