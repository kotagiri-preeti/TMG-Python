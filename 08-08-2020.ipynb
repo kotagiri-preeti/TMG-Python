{
 "cells": [
  {
   "cell_type": "markdown",
   "metadata": {},
   "source": [
    "Document link : [click here](https://docs.google.com/document/d/1nnL9pqMcXdNwjeIj8ORuJ4tuqQk9Trda2Ge_KaWbhvE/edit?usp=sharing)"
   ]
  },
  {
   "cell_type": "markdown",
   "metadata": {},
   "source": [
    "### while loop:\n",
    "\n",
    "```\n",
    "Python while loop syntax:\n",
    "\n",
    "while condition:\n",
    "    statements\n",
    "    Increment/Decrement\n",
    "=========================   \n",
    "C-language while loop syntax:\n",
    "\n",
    "while cond\n",
    "{\n",
    "---------\n",
    "---------\n",
    "}\n",
    "\n",
    "```"
   ]
  },
  {
   "cell_type": "code",
   "execution_count": 1,
   "metadata": {},
   "outputs": [
    {
     "name": "stdout",
     "output_type": "stream",
     "text": [
      "Enter a value10\n",
      "1 2 3 4 5 6 7 8 9 10 "
     ]
    }
   ],
   "source": [
    "#print 1-n numbers\n",
    "n = int(input(\"Enter a value:\"))\n",
    "i = 1\n",
    "while i <= n:\n",
    "    print(i,end=\" \")\n",
    "    i += 1 #i = i + 1"
   ]
  },
  {
   "cell_type": "code",
   "execution_count": 4,
   "metadata": {},
   "outputs": [
    {
     "name": "stdout",
     "output_type": "stream",
     "text": [
      "Enter a value:10\n",
      "sum is: 55\n"
     ]
    }
   ],
   "source": [
    "#print sum of 1-n numbers\n",
    "n = int(input(\"Enter a value:\"))\n",
    "i = 1\n",
    "s = 0 #storing sum value\n",
    "while i <= n:\n",
    "    s += i\n",
    "    i += 1 #i = i + 1\n",
    "    #print(s)#First\n",
    "print(\"sum is:\",s)#second"
   ]
  },
  {
   "cell_type": "code",
   "execution_count": 6,
   "metadata": {},
   "outputs": [
    {
     "name": "stdout",
     "output_type": "stream",
     "text": [
      "Enter a number:121\n",
      "palindrome\n"
     ]
    }
   ],
   "source": [
    "#Accept a number from the user and check whether the number is palindrome or not?\n",
    "n = int(input(\"Enter a number:\"))\n",
    "buffer = n\n",
    "rev = 0\n",
    "while n != 0:\n",
    "    rev = rev*10 + n%10\n",
    "    n = n//10\n",
    "if rev == buffer:\n",
    "    print(\"palindrome\")\n",
    "else:\n",
    "    print(\"Not palindrome\")"
   ]
  },
  {
   "cell_type": "code",
   "execution_count": 7,
   "metadata": {},
   "outputs": [
    {
     "name": "stdout",
     "output_type": "stream",
     "text": [
      "enter a number123456\n",
      "6\n",
      "4\n",
      "2\n"
     ]
    }
   ],
   "source": [
    "#Accept a number from the user and print only even digits from the number?\n",
    "n = int(input(\"enter a number\"))\n",
    "while n!=0:\n",
    "    if (n%10)%2 == 0:\n",
    "        print(n%10)\n",
    "    n = n//10"
   ]
  },
  {
   "cell_type": "code",
   "execution_count": null,
   "metadata": {},
   "outputs": [],
   "source": []
  }
 ],
 "metadata": {
  "kernelspec": {
   "display_name": "Python 3",
   "language": "python",
   "name": "python3"
  },
  "language_info": {
   "codemirror_mode": {
    "name": "ipython",
    "version": 3
   },
   "file_extension": ".py",
   "mimetype": "text/x-python",
   "name": "python",
   "nbconvert_exporter": "python",
   "pygments_lexer": "ipython3",
   "version": "3.7.3"
  }
 },
 "nbformat": 4,
 "nbformat_minor": 2
}
