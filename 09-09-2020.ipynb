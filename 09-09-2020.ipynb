{
 "cells": [
  {
   "cell_type": "markdown",
   "metadata": {},
   "source": [
    "Document link : [click here](https://docs.google.com/document/d/1OhXc8rQrJuD9rzjKLbBD8rZHgBZfQEjU43EuX8xqGvw/edit?usp=sharing)"
   ]
  },
  {
   "cell_type": "code",
   "execution_count": 6,
   "metadata": {},
   "outputs": [
    {
     "name": "stdout",
     "output_type": "stream",
     "text": [
      "This is ZeroDivisionError\n",
      "Sample line \n"
     ]
    }
   ],
   "source": [
    "#try - except with Error name \n",
    "def fun1(a,b):\n",
    "    try:\n",
    "        return a/b\n",
    "    except ZeroDivisionError:\n",
    "        print(\"This is ZeroDivisionError\")\n",
    "fun1(10,0)\n",
    "print(\"Sample line\")"
   ]
  },
  {
   "cell_type": "code",
   "execution_count": 8,
   "metadata": {},
   "outputs": [
    {
     "name": "stdout",
     "output_type": "stream",
     "text": [
      "This is ZeroDivisionError: division by zero\n",
      "Sample line\n"
     ]
    }
   ],
   "source": [
    "#try - except with Error name and error discription\n",
    "def fun1(a,b):\n",
    "    try:\n",
    "        return a/b\n",
    "    except ZeroDivisionError as arg:\n",
    "        print(\"This is ZeroDivisionError:\",arg)\n",
    "fun1(10,0)\n",
    "print(\"Sample line\")"
   ]
  },
  {
   "cell_type": "code",
   "execution_count": 17,
   "metadata": {},
   "outputs": [
    {
     "name": "stdout",
     "output_type": "stream",
     "text": [
      "Name error\n",
      "Sample line\n"
     ]
    }
   ],
   "source": [
    "#try - except with Error name and error discription and multiple errors\n",
    "def fun1(a,b):\n",
    "    try:\n",
    "        return (a/b)*c\n",
    "    except ZeroDivisionError as arg:\n",
    "        print(\"This is ZeroDivisionError:\",arg)\n",
    "    except (NameError,KeyError,SyntaxError):\n",
    "        print(\"Name error\")\n",
    "    except:\n",
    "        print(\"Handles all the exceptions\")\n",
    "fun1(10,2)\n",
    "print(\"Sample line\")"
   ]
  },
  {
   "cell_type": "code",
   "execution_count": 18,
   "metadata": {},
   "outputs": [
    {
     "name": "stdout",
     "output_type": "stream",
     "text": [
      "50.0\n",
      "Sample line\n"
     ]
    }
   ],
   "source": [
    "#try - except with Error name and error discription and multiple errors\n",
    "def fun1(a,b):\n",
    "    c = 10\n",
    "    try:\n",
    "        return (a/b)*c\n",
    "    except ZeroDivisionError as arg:\n",
    "        print(\"This is ZeroDivisionError:\",arg)\n",
    "    except (NameError,KeyError,SyntaxError):\n",
    "        print(\"Name error\")\n",
    "    except:\n",
    "        print(\"Handles all the exceptions\")\n",
    "print(fun1(10,2))\n",
    "print(\"Sample line\")"
   ]
  },
  {
   "cell_type": "code",
   "execution_count": 27,
   "metadata": {},
   "outputs": [
    {
     "name": "stdout",
     "output_type": "stream",
     "text": [
      "5.0\n",
      "else block\n",
      "Finally block\n"
     ]
    }
   ],
   "source": [
    "#when try deoesn't throw any error else will execute\n",
    "try:\n",
    "    print(10/2)\n",
    "except :\n",
    "    print(\"This is except block\")\n",
    "else:\n",
    "    print(\"else block\")\n",
    "finally:\n",
    "    print(\"Finally block\")"
   ]
  },
  {
   "cell_type": "code",
   "execution_count": 28,
   "metadata": {},
   "outputs": [
    {
     "name": "stdout",
     "output_type": "stream",
     "text": [
      "This is except block\n",
      "Finally block\n"
     ]
    }
   ],
   "source": [
    "#when try throws an error else will not execute\n",
    "try:\n",
    "    print(10/0)\n",
    "except :\n",
    "    print(\"This is except block\")\n",
    "else:\n",
    "    print(\"else block\")\n",
    "finally:\n",
    "    print(\"Finally block\")"
   ]
  },
  {
   "cell_type": "markdown",
   "metadata": {},
   "source": [
    "### User-defined Exceptions:\n"
   ]
  },
  {
   "cell_type": "code",
   "execution_count": 29,
   "metadata": {},
   "outputs": [
    {
     "name": "stdout",
     "output_type": "stream",
     "text": [
      "USer defined exception\n"
     ]
    }
   ],
   "source": [
    "class user_defined_exception(ZeroDivisionError):\n",
    "    print(\"User defined exception\")"
   ]
  },
  {
   "cell_type": "code",
   "execution_count": 32,
   "metadata": {},
   "outputs": [
    {
     "name": "stdout",
     "output_type": "stream",
     "text": [
      "Exception is handled\n"
     ]
    }
   ],
   "source": [
    "try:\n",
    "    raise user_defined_exception\n",
    "except user_defined_exception :\n",
    "    print(\"Exception is handled\")"
   ]
  },
  {
   "cell_type": "markdown",
   "metadata": {},
   "source": [
    "### Pre-defined cleanup actions:\n"
   ]
  },
  {
   "cell_type": "code",
   "execution_count": 34,
   "metadata": {},
   "outputs": [],
   "source": [
    "f = open(\"preeti.txt\",\"w\")\n",
    "f.write(\"Hai preeti\")\n",
    "f.close()"
   ]
  },
  {
   "cell_type": "code",
   "execution_count": 35,
   "metadata": {},
   "outputs": [
    {
     "data": {
      "text/plain": [
       "15"
      ]
     },
     "execution_count": 35,
     "metadata": {},
     "output_type": "execute_result"
    }
   ],
   "source": [
    "#if we miss close() changes will not save in the file\n",
    "f = open(\"preeti.txt\",\"a\")\n",
    "f.write(\"Where are you??\")"
   ]
  },
  {
   "cell_type": "code",
   "execution_count": 37,
   "metadata": {},
   "outputs": [],
   "source": [
    "#to avoid close() statement we can use with keyword\n",
    "with open(\"preeti.txt\",\"a\") as file:\n",
    "    file.write(\"where are you??\")"
   ]
  },
  {
   "cell_type": "code",
   "execution_count": null,
   "metadata": {},
   "outputs": [],
   "source": []
  }
 ],
 "metadata": {
  "kernelspec": {
   "display_name": "Python 3",
   "language": "python",
   "name": "python3"
  },
  "language_info": {
   "codemirror_mode": {
    "name": "ipython",
    "version": 3
   },
   "file_extension": ".py",
   "mimetype": "text/x-python",
   "name": "python",
   "nbconvert_exporter": "python",
   "pygments_lexer": "ipython3",
   "version": "3.7.3"
  }
 },
 "nbformat": 4,
 "nbformat_minor": 2
}
