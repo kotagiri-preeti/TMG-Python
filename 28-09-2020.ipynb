{
 "cells": [
  {
   "cell_type": "markdown",
   "metadata": {},
   "source": [
    "Document link : [click here](https://docs.google.com/document/d/1xav8NNN7jDF4UBGjNj6mFskKWIadLpyrvcbg8Yq9h4k/edit?usp=sharing)"
   ]
  },
  {
   "cell_type": "code",
   "execution_count": 17,
   "metadata": {},
   "outputs": [],
   "source": [
    "#importing the module\n",
    "import sqlite3"
   ]
  },
  {
   "cell_type": "code",
   "execution_count": 18,
   "metadata": {},
   "outputs": [],
   "source": [
    "#Establishing the connection\n",
    "con = sqlite3.connect(\"demo.db\")"
   ]
  },
  {
   "cell_type": "code",
   "execution_count": 19,
   "metadata": {},
   "outputs": [],
   "source": [
    "#creating a cursor object\n",
    "cur = con.cursor()"
   ]
  },
  {
   "cell_type": "code",
   "execution_count": 20,
   "metadata": {},
   "outputs": [],
   "source": [
    "#stroring query in a variable\n",
    "query = 'create table student1 (\"name\" text,\"roll no\" integer);'"
   ]
  },
  {
   "cell_type": "code",
   "execution_count": 21,
   "metadata": {},
   "outputs": [
    {
     "data": {
      "text/plain": [
       "<sqlite3.Cursor at 0x19a2f264ea0>"
      ]
     },
     "execution_count": 21,
     "metadata": {},
     "output_type": "execute_result"
    }
   ],
   "source": [
    "#Executing a query\n",
    "cur.execute(query)"
   ]
  },
  {
   "cell_type": "code",
   "execution_count": 22,
   "metadata": {},
   "outputs": [],
   "source": [
    "#closing connections\n",
    "cur.close()\n",
    "con.close()"
   ]
  },
  {
   "cell_type": "code",
   "execution_count": 23,
   "metadata": {},
   "outputs": [],
   "source": [
    "#Inserting data into table\n",
    "import sqlite3\n",
    "con = sqlite3.connect(\"demo.db\")\n",
    "cur = con.cursor()\n",
    "queries = '''insert into student1 values (\"preeti\",1);\n",
    "             insert into student1 values (\"sana\",2);'''\n",
    "cur.executescript(queries)\n",
    "con.commit()\n",
    "cur.close()\n",
    "con.close()"
   ]
  },
  {
   "cell_type": "code",
   "execution_count": 24,
   "metadata": {},
   "outputs": [
    {
     "name": "stdout",
     "output_type": "stream",
     "text": [
      "[('preeti', 1)]\n"
     ]
    }
   ],
   "source": [
    "#Fetching the data\n",
    "import sqlite3\n",
    "con = sqlite3.connect(\"demo.db\")\n",
    "cur = con.cursor()\n",
    "data = cur.execute(\"select * from student1;\")\n",
    "print(data.fetchmany(1))\n",
    "cur.close()\n",
    "con.close()"
   ]
  },
  {
   "cell_type": "code",
   "execution_count": 25,
   "metadata": {},
   "outputs": [],
   "source": [
    "#Executing multiple queries at a time using executescript() \n",
    "import sqlite3\n",
    "con = sqlite3.connect(\"demo.db\")\n",
    "cur = con.cursor()\n",
    "queries = '''insert into student1 values (\"sai\",10);\n",
    "             insert into student1 values (\"arun\",30);\n",
    "             insert into student1 values (\"vishu\",600);\n",
    "             insert into student1 values (\"sai raj\",100);'''\n",
    "cur.executescript(queries)\n",
    "con.commit()\n",
    "cur.close()\n",
    "con.close()"
   ]
  },
  {
   "cell_type": "code",
   "execution_count": 26,
   "metadata": {},
   "outputs": [
    {
     "name": "stdout",
     "output_type": "stream",
     "text": [
      "student name: a1 and his/her percentage is: 90\n"
     ]
    }
   ],
   "source": [
    "#From the below table fetch the students whose percentage is >= 90.\n",
    "import sqlite3\n",
    "con = sqlite3.connect(\"demo.db\")\n",
    "cur = con.cursor()\n",
    "data = cur.execute(\"select * from percentages where percentage >= 90;\")\n",
    "for row in data.fetchall():\n",
    "    print(\"student name:\",row[0],\"and his/her percentage is:\",row[1])\n",
    "cur.close()\n",
    "con.close()"
   ]
  },
  {
   "cell_type": "code",
   "execution_count": null,
   "metadata": {},
   "outputs": [],
   "source": []
  }
 ],
 "metadata": {
  "kernelspec": {
   "display_name": "Python 3",
   "language": "python",
   "name": "python3"
  },
  "language_info": {
   "codemirror_mode": {
    "name": "ipython",
    "version": 3
   },
   "file_extension": ".py",
   "mimetype": "text/x-python",
   "name": "python",
   "nbconvert_exporter": "python",
   "pygments_lexer": "ipython3",
   "version": "3.7.3"
  }
 },
 "nbformat": 4,
 "nbformat_minor": 2
}
