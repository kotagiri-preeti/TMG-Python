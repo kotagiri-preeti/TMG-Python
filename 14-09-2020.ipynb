{
 "cells": [
  {
   "cell_type": "markdown",
   "metadata": {},
   "source": [
    "Document link : [click here](https://docs.google.com/document/d/1fPGnNltKc290E4l-LhLStJMtrBhZeIqmMBGPtM5Aa8I/edit?usp=sharing)\n",
    "### Operator overloading"
   ]
  },
  {
   "cell_type": "code",
   "execution_count": 11,
   "metadata": {},
   "outputs": [],
   "source": [
    "class A:\n",
    "    def __init__(self,a,b):\n",
    "        self.a = a\n",
    "        self.b = b\n",
    "    # + Operator overloading\n",
    "    def __add__(self,arg):\n",
    "        return (self.a+arg.a,self.b+arg.b)\n",
    "    # - Operator overloading\n",
    "    def __sub__(self,arg):\n",
    "        return (self.a-arg.a,self.b-arg.b)"
   ]
  },
  {
   "cell_type": "code",
   "execution_count": 13,
   "metadata": {},
   "outputs": [
    {
     "name": "stdout",
     "output_type": "stream",
     "text": [
      "(110, 220)\n",
      "(-90, -180)\n"
     ]
    }
   ],
   "source": [
    "obj1 = A(10,20)\n",
    "obj2 = A(100,200)\n",
    "print(obj1 + obj2) #(110,220)\n",
    "print(obj1 - obj2) #(-90,-180)"
   ]
  },
  {
   "cell_type": "markdown",
   "metadata": {},
   "source": [
    "### Method overriding"
   ]
  },
  {
   "cell_type": "code",
   "execution_count": 21,
   "metadata": {},
   "outputs": [],
   "source": [
    "class A:\n",
    "    def display(self):\n",
    "        print(\"This is class A display method\")\n",
    "class B(A):\n",
    "    def display(self):\n",
    "        print(\"This is class B display method\")"
   ]
  },
  {
   "cell_type": "code",
   "execution_count": 22,
   "metadata": {},
   "outputs": [
    {
     "name": "stdout",
     "output_type": "stream",
     "text": [
      "This is class A display method\n",
      "This is class B display method\n"
     ]
    }
   ],
   "source": [
    "a = A()\n",
    "b = B()\n",
    "a.display()\n",
    "b.display()"
   ]
  },
  {
   "cell_type": "markdown",
   "metadata": {},
   "source": [
    "### Encapsulation"
   ]
  },
  {
   "cell_type": "code",
   "execution_count": 1,
   "metadata": {},
   "outputs": [
    {
     "name": "stdout",
     "output_type": "stream",
     "text": [
      "var value is: 10\n",
      "10\n"
     ]
    }
   ],
   "source": [
    "class A:\n",
    "    __var = 10\n",
    "    def __display(self):\n",
    "        print(\"var value is:\",self.__var)\n",
    "a = A()\n",
    "#a.__display() gives an error\n",
    "a._A__display()\n",
    "#print(a.__var) this statement throws an error\n",
    "print(a._A__var)"
   ]
  },
  {
   "cell_type": "markdown",
   "metadata": {},
   "source": [
    "### Data Abstraction"
   ]
  },
  {
   "cell_type": "code",
   "execution_count": 2,
   "metadata": {},
   "outputs": [
    {
     "name": "stdout",
     "output_type": "stream",
     "text": [
      "I can bark\n"
     ]
    }
   ],
   "source": [
    "# abstract class cannot be an instantiation \n",
    "from abc import ABC,abstractmethod \n",
    "\n",
    "class Animal(ABC): \n",
    "    @abstractmethod\n",
    "    def move(self): \n",
    "        pass\n",
    "\n",
    "class Dog(Animal): \n",
    "    def move(self): \n",
    "        print(\"I can bark\") \n",
    "\n",
    "class Lion(Animal): \n",
    "    def move(self): \n",
    "        print(\"I can roar\") \n",
    "\n",
    "d = Dog() \n",
    "d.move()"
   ]
  },
  {
   "cell_type": "code",
   "execution_count": null,
   "metadata": {},
   "outputs": [],
   "source": []
  }
 ],
 "metadata": {
  "kernelspec": {
   "display_name": "Python 3",
   "language": "python",
   "name": "python3"
  },
  "language_info": {
   "codemirror_mode": {
    "name": "ipython",
    "version": 3
   },
   "file_extension": ".py",
   "mimetype": "text/x-python",
   "name": "python",
   "nbconvert_exporter": "python",
   "pygments_lexer": "ipython3",
   "version": "3.7.3"
  }
 },
 "nbformat": 4,
 "nbformat_minor": 2
}
