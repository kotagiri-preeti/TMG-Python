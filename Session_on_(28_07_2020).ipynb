{
  "nbformat": 4,
  "nbformat_minor": 0,
  "metadata": {
    "colab": {
      "name": "Session on (28-07-2020).ipynb",
      "provenance": []
    },
    "kernelspec": {
      "name": "python3",
      "display_name": "Python 3"
    }
  },
  "cells": [
    {
      "cell_type": "markdown",
      "metadata": {
        "id": "5REyz3skyrKa",
        "colab_type": "text"
      },
      "source": [
        "# Python Programming\n",
        "## Python Programming\n",
        "### Python Programming\n",
        "#### Python Programming\n",
        "##### Python Programming\n",
        "###### Python Programming\n"
      ]
    },
    {
      "cell_type": "markdown",
      "metadata": {
        "id": "pjIyoegj0K7L",
        "colab_type": "text"
      },
      "source": [
        "### Different Programming Languages\n",
        "1. Python\n",
        "   1. core python\n",
        "   2. Adv python \n",
        "2. Java\n",
        "3. C\n",
        "4. C++"
      ]
    },
    {
      "cell_type": "markdown",
      "metadata": {
        "id": "4EljRxbl06uw",
        "colab_type": "text"
      },
      "source": [
        "### Different Programming Languages\n",
        "* Python\n",
        "  * core python \n",
        "  * Adv python\n",
        "* Java\n",
        "* C\n",
        "* C++\n",
        "\n"
      ]
    },
    {
      "cell_type": "markdown",
      "metadata": {
        "id": "fwuMWl8n2BRs",
        "colab_type": "text"
      },
      "source": [
        "[click here](https://www.python.org/doc/)"
      ]
    },
    {
      "cell_type": "markdown",
      "metadata": {
        "id": "cb8WhGET2lja",
        "colab_type": "text"
      },
      "source": [
        "![image](https://lh3.googleusercontent.com/proxy/Ne4Y4YyAjpC5KEVQ-O6uY3rvOz-ipD1FrZDdvXA6YMfigxknMUnbigajHzhiBTg33oDtlUm98uYyrpixAA_HTod-ZlUVXYeGXAWbOAIJaAK18lxxKcO272dmpxcBNoDAgRZ0iZaVb55EaQ)"
      ]
    },
    {
      "cell_type": "markdown",
      "metadata": {
        "id": "MJ8_acPO44YD",
        "colab_type": "text"
      },
      "source": [
        "### Variables:"
      ]
    },
    {
      "cell_type": "code",
      "metadata": {
        "id": "aZmepDFQz079",
        "colab_type": "code",
        "colab": {
          "base_uri": "https://localhost:8080/",
          "height": 67
        },
        "outputId": "add52341-b46b-4ccd-da1a-f3861d7f4377"
      },
      "source": [
        "x = 10\n",
        "y = 12.34\n",
        "z = 'python'\n",
        "#Checking for the type of each variable\n",
        "print(type(x))\n",
        "print(type(y))\n",
        "print(type(z))"
      ],
      "execution_count": null,
      "outputs": [
        {
          "output_type": "stream",
          "text": [
            "<class 'int'>\n",
            "<class 'float'>\n",
            "<class 'str'>\n"
          ],
          "name": "stdout"
        }
      ]
    },
    {
      "cell_type": "code",
      "metadata": {
        "id": "5vsI7UNQ47uC",
        "colab_type": "code",
        "colab": {
          "base_uri": "https://localhost:8080/",
          "height": 50
        },
        "outputId": "8def37bf-2961-4a61-a45c-3fa729422c87"
      },
      "source": [
        "print(x + y) #22.34\n",
        "print(x - y) #-2.34"
      ],
      "execution_count": null,
      "outputs": [
        {
          "output_type": "stream",
          "text": [
            "22.34\n",
            "-2.34\n"
          ],
          "name": "stdout"
        }
      ]
    },
    {
      "cell_type": "code",
      "metadata": {
        "id": "AtxgUlcx7Spx",
        "colab_type": "code",
        "colab": {
          "base_uri": "https://localhost:8080/",
          "height": 84
        },
        "outputId": "92c4c3ac-0b46-440c-b630-4e600b8a53d9"
      },
      "source": [
        "#Performing basic Arithmetic operations\n",
        "print(x+y)\n",
        "print(x-y)\n",
        "print(x*y)\n",
        "print(x/y)"
      ],
      "execution_count": null,
      "outputs": [
        {
          "output_type": "stream",
          "text": [
            "22.34\n",
            "-2.34\n",
            "123.4\n",
            "0.8103727714748784\n"
          ],
          "name": "stdout"
        }
      ]
    },
    {
      "cell_type": "code",
      "metadata": {
        "id": "mMYCdSZT7e03",
        "colab_type": "code",
        "colab": {
          "base_uri": "https://localhost:8080/",
          "height": 34
        },
        "outputId": "32ac4880-179a-460f-b07b-5af4c3e807a1"
      },
      "source": [
        "#Printing values on the screen separated by 2 tab spaces using print function \"sep\"\n",
        "print(x+y,x-y,x*y,x/y,sep=\"   \")"
      ],
      "execution_count": null,
      "outputs": [
        {
          "output_type": "stream",
          "text": [
            "22.34       -2.34       123.4       0.8103727714748784\n"
          ],
          "name": "stdout"
        }
      ]
    },
    {
      "cell_type": "code",
      "metadata": {
        "id": "AOhgQGct7yF5",
        "colab_type": "code",
        "colab": {
          "base_uri": "https://localhost:8080/",
          "height": 34
        },
        "outputId": "3dc588d7-0817-47e4-95f5-7e19cf44a4a5"
      },
      "source": [
        "#Printing all the values on the same line using multiple print() separated by \"$\" using print function \"end\"\n",
        "print(x+y,end=\" \")\n",
        "print(x-y,end=\" \")\n",
        "print(x*y,end=\" \")\n",
        "print(x/y,end=\" \")"
      ],
      "execution_count": null,
      "outputs": [
        {
          "output_type": "stream",
          "text": [
            "22.34$-2.34$123.4$0.8103727714748784$"
          ],
          "name": "stdout"
        }
      ]
    }
  ]
}